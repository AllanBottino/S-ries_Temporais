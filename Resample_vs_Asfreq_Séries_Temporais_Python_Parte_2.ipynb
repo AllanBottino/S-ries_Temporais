{
  "nbformat": 4,
  "nbformat_minor": 0,
  "metadata": {
    "colab": {
      "name": "Resample vs Asfreq Séries Temporais Python Parte 2.ipynb",
      "provenance": [],
      "collapsed_sections": [],
      "authorship_tag": "ABX9TyNB4gWWnkZGPO42LX09UyW+",
      "include_colab_link": true
    },
    "kernelspec": {
      "name": "python3",
      "display_name": "Python 3"
    },
    "language_info": {
      "name": "python"
    }
  },
  "cells": [
    {
      "cell_type": "markdown",
      "metadata": {
        "id": "view-in-github",
        "colab_type": "text"
      },
      "source": [
        "<a href=\"https://colab.research.google.com/github/AllanBottino/Series_Temporais_Python/blob/main/Resample_vs_Asfreq_S%C3%A9ries_Temporais_Python_Parte_2.ipynb\" target=\"_parent\"><img src=\"https://colab.research.google.com/assets/colab-badge.svg\" alt=\"Open In Colab\"/></a>"
      ]
    },
    {
      "cell_type": "markdown",
      "metadata": {
        "id": "qC-BMZeHKYOW"
      },
      "source": [
        "# Resample() vs Asfreq()"
      ]
    },
    {
      "cell_type": "markdown",
      "metadata": {
        "id": "1JDdUnLzKSWc"
      },
      "source": [
        "No artigo anterior eu coloquei apenas o uso do \"resample()\", e não do \"asfreq()\" neste eu vou tentar explicar quando usar um e quando usar o outro.\n",
        "Já aviso que essa é uma explicação simples, é possível aprofundar muito mais, pois quando se trata de reamostragem inevitavelmente entraremos em Upsampling e Downsampling, falarei de Upsampling e Downsampling no próximo artigo, mas creio que em termos práticos não me aprofundando e visando o código em si, e uma aplicação simples, o código será útil.\n",
        "links de onde eu pesquisei principalmente:\n",
        "\n",
        "https://stackoverflow.com/questions/18060619/difference-between-asfreq-and-resample\n",
        "\n",
        "https://machinelearningmastery.com/resample-interpolate-time-series-data-python/#:~:text=Resampling%20involves%20changing%20the%20frequency,as%20from%20days%20to%20months.\n"
      ]
    },
    {
      "cell_type": "markdown",
      "metadata": {
        "id": "v8ZMii9_LOGd"
      },
      "source": [
        "# Carregando as bibliotecas:"
      ]
    },
    {
      "cell_type": "code",
      "metadata": {
        "id": "nSiOhyr4LIIz"
      },
      "source": [
        "import pandas as pd\n",
        "\n",
        "import numpy as np"
      ],
      "execution_count": 2,
      "outputs": []
    },
    {
      "cell_type": "markdown",
      "metadata": {
        "id": "7jSU3j-uK40u"
      },
      "source": [
        "Nesse especifico caso vou usar números aleatórios, pois é mais fácil de se entender com esse exemplo do que com números reais:"
      ]
    },
    {
      "cell_type": "code",
      "metadata": {
        "colab": {
          "base_uri": "https://localhost:8080/"
        },
        "id": "5K7hNBuBKQ21",
        "outputId": "719655ab-6597-44a0-b5f2-0f3605123fba"
      },
      "source": [
        "ts = pd.Series(range(365), index = pd.date_range(start='20190101',  end='20191231',freq = 'D'))\n",
        "\n",
        "ts.head()"
      ],
      "execution_count": 3,
      "outputs": [
        {
          "output_type": "execute_result",
          "data": {
            "text/plain": [
              "2019-01-01    0\n",
              "2019-01-02    1\n",
              "2019-01-03    2\n",
              "2019-01-04    3\n",
              "2019-01-05    4\n",
              "Freq: D, dtype: int64"
            ]
          },
          "metadata": {
            "tags": []
          },
          "execution_count": 3
        }
      ]
    },
    {
      "cell_type": "markdown",
      "metadata": {
        "id": "32Ndo1fYLnQo"
      },
      "source": [
        "Agora reamostraremos os dados acima por trimestre usando \".asfreq(\"Q\")\":\n"
      ]
    },
    {
      "cell_type": "code",
      "metadata": {
        "colab": {
          "base_uri": "https://localhost:8080/"
        },
        "id": "3pCYTmBhKQ5q",
        "outputId": "395d2dd7-42e6-42dd-a281-82ec515a0e0f"
      },
      "source": [
        "ts.asfreq('Q')"
      ],
      "execution_count": 4,
      "outputs": [
        {
          "output_type": "execute_result",
          "data": {
            "text/plain": [
              "2019-03-31     89\n",
              "2019-06-30    180\n",
              "2019-09-30    272\n",
              "2019-12-31    364\n",
              "Freq: Q-DEC, dtype: int64"
            ]
          },
          "metadata": {
            "tags": []
          },
          "execution_count": 4
        }
      ]
    },
    {
      "cell_type": "markdown",
      "metadata": {
        "id": "wEBI-hRCLv1C"
      },
      "source": [
        "Agora vamos ver essa série de tempo por trimestre usando o resample:"
      ]
    },
    {
      "cell_type": "code",
      "metadata": {
        "colab": {
          "base_uri": "https://localhost:8080/"
        },
        "id": "LV9MnxPLKQ8L",
        "outputId": "4b705206-90e5-48ad-dfb4-5b8573055886"
      },
      "source": [
        "ts.resample('Q')"
      ],
      "execution_count": 5,
      "outputs": [
        {
          "output_type": "execute_result",
          "data": {
            "text/plain": [
              "<pandas.core.resample.DatetimeIndexResampler object at 0x7f855a7d7ed0>"
            ]
          },
          "metadata": {
            "tags": []
          },
          "execution_count": 5
        }
      ]
    },
    {
      "cell_type": "markdown",
      "metadata": {
        "id": "CFObv8ooL67b"
      },
      "source": [
        "Resample retorna um \"DatetimeIndexResampler\", ou um \"Resample Object\":\n",
        "\n",
        "https://pandas.pydata.org/docs/reference/resampling.html\n",
        "\n",
        "Não conseguimos ver o que está dentro. Para vermos o que está dentro vamos usar o bins, maiores informações de bins: https://predictivehacks.com/how-to-create-bins-in-python-using-pandas/\n",
        "\n",
        "***Quando vocês estiverem usando o resample em algo real seria algo do tipo: \"ts.resample(\"Q\").sales.mean(), tem que especificar qual coluna você quer ver."
      ]
    },
    {
      "cell_type": "code",
      "metadata": {
        "colab": {
          "base_uri": "https://localhost:8080/"
        },
        "id": "jwOagoSULwji",
        "outputId": "421e0288-e78d-4175-c9ef-6634960f4c73"
      },
      "source": [
        "bins = ts.resample('Q')\n",
        "bins.groups"
      ],
      "execution_count": 6,
      "outputs": [
        {
          "output_type": "execute_result",
          "data": {
            "text/plain": [
              "{Timestamp('2019-03-31 00:00:00', freq='Q-DEC'): 90,\n",
              " Timestamp('2019-06-30 00:00:00', freq='Q-DEC'): 181,\n",
              " Timestamp('2019-09-30 00:00:00', freq='Q-DEC'): 273,\n",
              " Timestamp('2019-12-31 00:00:00', freq='Q-DEC'): 365}"
            ]
          },
          "metadata": {
            "tags": []
          },
          "execution_count": 6
        }
      ]
    },
    {
      "cell_type": "markdown",
      "metadata": {
        "id": "r4uH0DAJMCWC"
      },
      "source": [
        "Aconteceu um erro de uma unidade, mas vamos relevar esse erro. Vamos calcular a média de cada trimestre e entenderemos o problema real:"
      ]
    },
    {
      "cell_type": "code",
      "metadata": {
        "colab": {
          "base_uri": "https://localhost:8080/"
        },
        "id": "sZ68zfABLwl9",
        "outputId": "95a21b7c-9530-4ebd-eded-ff3c3894e2e5"
      },
      "source": [
        "print(\"Asfreq por si só:\\n\", ts.asfreq(\"Q\"),\"\\n\")\n",
        "\n",
        "print(\"Vendas do dia 2019-03-31:\", ts.loc[\"2019-03-31\"])\n",
        "print(\"Vendas do dia 2019-06-30:\",ts.loc[\"2019-06-30\"])\n",
        "print(\"Vendas do dia 2019-09-30:\",ts.loc[\"2019-09-30\"])\n",
        "print(\"Vendas do dia 2019-12-31:\", ts.loc[\"2019-12-31\"],\"\\n\")\n",
        "\n",
        "print(\"Asfreq com a MÉDIA: \\n\", ts.asfreq('Q').mean())"
      ],
      "execution_count": 7,
      "outputs": [
        {
          "output_type": "stream",
          "text": [
            "Asfreq por si só:\n",
            " 2019-03-31     89\n",
            "2019-06-30    180\n",
            "2019-09-30    272\n",
            "2019-12-31    364\n",
            "Freq: Q-DEC, dtype: int64 \n",
            "\n",
            "Vendas do dia 2019-03-31: 89\n",
            "Vendas do dia 2019-06-30: 180\n",
            "Vendas do dia 2019-09-30: 272\n",
            "Vendas do dia 2019-12-31: 364 \n",
            "\n",
            "Asfreq com a MÉDIA: \n",
            " 226.25\n"
          ],
          "name": "stdout"
        }
      ]
    },
    {
      "cell_type": "markdown",
      "metadata": {
        "id": "jPNQIwXqMHHz"
      },
      "source": [
        "Agora vejam essa conta:\n",
        "\n",
        "(89+180+272+364)/4 = 226.25\n",
        "\n",
        "Foi gerado uma média de todos os valores. Observe que esta não é a média de cada trimestre, mas a média do último dia de cada trimestre.\n",
        "\n",
        "Para calcular a média de cada trimestre:"
      ]
    },
    {
      "cell_type": "code",
      "metadata": {
        "colab": {
          "base_uri": "https://localhost:8080/"
        },
        "id": "TBwLII6ZLwoS",
        "outputId": "76dba393-4602-46a1-c1ae-f8582aed5d8e"
      },
      "source": [
        "print(ts.resample('Q').mean(),\"\\n\")\n",
        "\n",
        "print(\"Vendas de 2019-01-01 até 2019-03-31:\",ts.loc[\"2019-01-01\" : \"2019-03-31\"].mean())\n",
        "print(\"Vendas de 2019-03-31 até 2019-06-30:\",ts.loc[\"2019-03-31\" : \"2019-06-30\"].mean())\n",
        "print(\"Vendas de 2019-06-30 até 2019-09-30:\",ts.loc[\"2019-06-30\" : \"2019-09-30\"].mean())\n",
        "print(\"Vendas de 2019-09-30 até 2019-12-31:\",ts.loc[\"2019-09-30\" : \"2019-12-31\"].mean())"
      ],
      "execution_count": 8,
      "outputs": [
        {
          "output_type": "stream",
          "text": [
            "2019-03-31     44.5\n",
            "2019-06-30    135.0\n",
            "2019-09-30    226.5\n",
            "2019-12-31    318.5\n",
            "Freq: Q-DEC, dtype: float64 \n",
            "\n",
            "Vendas de 2019-01-01 até 2019-03-31: 44.5\n",
            "Vendas de 2019-03-31 até 2019-06-30: 134.5\n",
            "Vendas de 2019-06-30 até 2019-09-30: 226.0\n",
            "Vendas de 2019-09-30 até 2019-12-31: 318.0\n"
          ],
          "name": "stdout"
        }
      ]
    },
    {
      "cell_type": "markdown",
      "metadata": {
        "id": "pwAuFDTBMUAi"
      },
      "source": [
        "A principal diferença entre os dois é que o resample() é fundamentalmente uma agregação de dados, ele faz o mesmo que o groupby mas com um periodo de tempo pré determinado (Offset aliases), por isso podemos fazer a média ou soma ou qualquer outra operação tendo como base o periodo de tempo escolhido (Offset aliases). Enquanto que o asfreq()é fundamentalmente uma seleção de dados, os asfreq acaba que sendo algo mais simples que o resample. Quando usar um ou outro? Aí vai depender da sua necessidade, creio que com esse simples exemplo tenha ficado claro de como usar os comandos e nos futuros usos do resample e do asfreq um cuidado irá ser tomado."
      ]
    },
    {
      "cell_type": "markdown",
      "metadata": {
        "id": "6cQ-apygMXYo"
      },
      "source": [
        "Um artigo curto, mas de fácil entendimento. No próximo artigo falarei de Downsampling e Upsampling, acompanhem, pois, vocês verão que o assunto se conecta com esse.\n",
        "\n",
        "Abraços."
      ]
    },
    {
      "cell_type": "code",
      "metadata": {
        "id": "dVh5D5Z0Lwqm"
      },
      "source": [
        ""
      ],
      "execution_count": null,
      "outputs": []
    },
    {
      "cell_type": "code",
      "metadata": {
        "id": "_9Z-mp81Lwsy"
      },
      "source": [
        ""
      ],
      "execution_count": null,
      "outputs": []
    },
    {
      "cell_type": "code",
      "metadata": {
        "id": "JFoM6-IDLwvP"
      },
      "source": [
        ""
      ],
      "execution_count": null,
      "outputs": []
    },
    {
      "cell_type": "code",
      "metadata": {
        "id": "8f-nCReVLw1c"
      },
      "source": [
        ""
      ],
      "execution_count": null,
      "outputs": []
    },
    {
      "cell_type": "code",
      "metadata": {
        "id": "DcARb32zKQ-5"
      },
      "source": [
        ""
      ],
      "execution_count": null,
      "outputs": []
    }
  ]
}