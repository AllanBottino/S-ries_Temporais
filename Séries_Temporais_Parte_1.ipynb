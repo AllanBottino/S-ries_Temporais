{
  "nbformat": 4,
  "nbformat_minor": 0,
  "metadata": {
    "colab": {
      "name": "Séries_Temporais_Parte_1",
      "provenance": [],
      "collapsed_sections": [],
      "authorship_tag": "ABX9TyPGuDwBAwoFPr8JrsItk3y+",
      "include_colab_link": true
    },
    "kernelspec": {
      "name": "python3",
      "display_name": "Python 3"
    },
    "language_info": {
      "name": "python"
    }
  },
  "cells": [
    {
      "cell_type": "markdown",
      "metadata": {
        "id": "view-in-github",
        "colab_type": "text"
      },
      "source": [
        "<a href=\"https://colab.research.google.com/github/AllanBottino/Series_Temporais/blob/main/S%C3%A9ries_Temporais_Parte_1.ipynb\" target=\"_parent\"><img src=\"https://colab.research.google.com/assets/colab-badge.svg\" alt=\"Open In Colab\"/></a>"
      ]
    },
    {
      "cell_type": "markdown",
      "metadata": {
        "id": "TJOYkj7OsSlB"
      },
      "source": [
        "1-Importando as bibliotecas:"
      ]
    },
    {
      "cell_type": "code",
      "metadata": {
        "id": "oo6NOJOSrY6h"
      },
      "source": [
        "import pandas as pd\n",
        "\n",
        "# O comando abaixo tira umas mensagens chatas.\n",
        "import warnings\n",
        "from pandas.core.common import SettingWithCopyWarning\n",
        "warnings.simplefilter(action=\"ignore\", category=SettingWithCopyWarning)\n",
        "\n",
        "import warnings\n",
        "warnings.filterwarnings(\"ignore\")"
      ],
      "execution_count": 1,
      "outputs": []
    },
    {
      "cell_type": "markdown",
      "metadata": {
        "id": "Qb04a6q3ws0S"
      },
      "source": [
        "2-Carregando os arquivos:"
      ]
    },
    {
      "cell_type": "code",
      "metadata": {
        "id": "de3HOLBArccR",
        "colab": {
          "resources": {
            "http://localhost:8080/nbextensions/google.colab/files.js": {
              "data": "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",
              "ok": true,
              "headers": [
                [
                  "content-type",
                  "application/javascript"
                ]
              ],
              "status": 200,
              "status_text": ""
            }
          },
          "base_uri": "https://localhost:8080/",
          "height": 111
        },
        "outputId": "8850e968-a1f6-49f1-f467-d751f60f2a8e"
      },
      "source": [
        "# Vamos carregar os dois arquivos:\n",
        "\n",
        "#train=pd.read_csv(\"C:/Users/Allan/Documents/Projetos/store_item_demand_train.csv\")\n",
        "#test=pd.read_csv(\"C:/Users/Allan/Documents/Projetos/store_item_demand_test.csv\")\n",
        "\n",
        "from google.colab import files\n",
        "uploaded = files.upload()"
      ],
      "execution_count": 2,
      "outputs": [
        {
          "output_type": "display_data",
          "data": {
            "text/html": [
              "\n",
              "     <input type=\"file\" id=\"files-b4568667-0297-4844-8510-40ece56c1921\" name=\"files[]\" multiple disabled\n",
              "        style=\"border:none\" />\n",
              "     <output id=\"result-b4568667-0297-4844-8510-40ece56c1921\">\n",
              "      Upload widget is only available when the cell has been executed in the\n",
              "      current browser session. Please rerun this cell to enable.\n",
              "      </output>\n",
              "      <script src=\"/nbextensions/google.colab/files.js\"></script> "
            ],
            "text/plain": [
              "<IPython.core.display.HTML object>"
            ]
          },
          "metadata": {
            "tags": []
          }
        },
        {
          "output_type": "stream",
          "text": [
            "Saving store_item_demand_test.csv to store_item_demand_test.csv\n",
            "Saving store_item_demand_train.csv to store_item_demand_train.csv\n"
          ],
          "name": "stdout"
        }
      ]
    },
    {
      "cell_type": "code",
      "metadata": {
        "id": "DoYSB-Mgrcej"
      },
      "source": [
        "import io\n",
        "\n",
        "train = pd.read_csv(io.BytesIO(uploaded['store_item_demand_train.csv']))\n",
        "\n",
        "test = pd.read_csv(io.BytesIO(uploaded['store_item_demand_test.csv']))"
      ],
      "execution_count": 3,
      "outputs": []
    },
    {
      "cell_type": "code",
      "metadata": {
        "colab": {
          "base_uri": "https://localhost:8080/",
          "height": 78
        },
        "id": "XyLZlkc-rcgk",
        "outputId": "c7177689-5ed7-4cc3-c288-e70226964ae6"
      },
      "source": [
        "train = pd.read_csv(io.BytesIO(uploaded['store_item_demand_train.csv']))\n",
        "\n",
        "test = pd.read_csv(io.BytesIO(uploaded['store_item_demand_test.csv']))\n",
        "\n",
        "df = pd.concat([train, test])\n",
        "\n",
        "df.drop(\"id\", axis =1, inplace = True)\n",
        "\n",
        "df1 = df.copy()\n",
        "\n",
        "df1.head(1)"
      ],
      "execution_count": 4,
      "outputs": [
        {
          "output_type": "execute_result",
          "data": {
            "text/html": [
              "<div>\n",
              "<style scoped>\n",
              "    .dataframe tbody tr th:only-of-type {\n",
              "        vertical-align: middle;\n",
              "    }\n",
              "\n",
              "    .dataframe tbody tr th {\n",
              "        vertical-align: top;\n",
              "    }\n",
              "\n",
              "    .dataframe thead th {\n",
              "        text-align: right;\n",
              "    }\n",
              "</style>\n",
              "<table border=\"1\" class=\"dataframe\">\n",
              "  <thead>\n",
              "    <tr style=\"text-align: right;\">\n",
              "      <th></th>\n",
              "      <th>date</th>\n",
              "      <th>store</th>\n",
              "      <th>item</th>\n",
              "      <th>sales</th>\n",
              "    </tr>\n",
              "  </thead>\n",
              "  <tbody>\n",
              "    <tr>\n",
              "      <th>0</th>\n",
              "      <td>2013-01-01</td>\n",
              "      <td>1</td>\n",
              "      <td>1</td>\n",
              "      <td>13.0</td>\n",
              "    </tr>\n",
              "  </tbody>\n",
              "</table>\n",
              "</div>"
            ],
            "text/plain": [
              "         date  store  item  sales\n",
              "0  2013-01-01      1     1   13.0"
            ]
          },
          "metadata": {
            "tags": []
          },
          "execution_count": 4
        }
      ]
    },
    {
      "cell_type": "markdown",
      "metadata": {
        "id": "W830c0YZKBoK"
      },
      "source": [
        "Acima eu copiei o dataframe original (df) no df1, minha impressão é que fazer cópias do arquivo original é uma prática que te salva de muitos acidentes."
      ]
    },
    {
      "cell_type": "markdown",
      "metadata": {
        "id": "mrGh1yT4nnqc"
      },
      "source": [
        "# 2-1- Carregando os arquivos de outra forma: "
      ]
    },
    {
      "cell_type": "code",
      "metadata": {
        "id": "4FZ7zAIhLZap"
      },
      "source": [
        "# df1 = pd.read_csv(\"store_item_demand_forecasting\", index_col = \"date\", parse_dates=['date'])\n"
      ],
      "execution_count": 5,
      "outputs": []
    },
    {
      "cell_type": "markdown",
      "metadata": {
        "id": "c0hiHaS7oDC5"
      },
      "source": [
        "Supondo que você está usando o jupyter notebook, poderia colocar junto ao comando read_csv, os parametros:\n",
        "\n",
        "index_col = \"date\"\n",
        "Que irá colocar a coluna date ou outra que você desejar como índice.\n",
        "\n",
        "parse_dates=['date'])\n",
        "Estou transformando a coluna date para o formato datetime.\n",
        "\n",
        "https://pandas.pydata.org/docs/reference/api/pandas.read_csv.html"
      ]
    },
    {
      "cell_type": "code",
      "metadata": {
        "id": "2Kjmh-Qqq6Pn"
      },
      "source": [
        "#train = pd.read_csv(io.BytesIO(uploaded['store_item_demand_train.csv']), index_col = \"date\", parse_dates=True)\n",
        "\n",
        "#test = pd.read_csv(io.BytesIO(uploaded['store_item_demand_test.csv']), index_col = \"date\", parse_dates=True)\n",
        "\n",
        "#df1 = pd.concat([train, test])\n",
        "\n",
        "#df1.head()"
      ],
      "execution_count": 6,
      "outputs": []
    },
    {
      "cell_type": "markdown",
      "metadata": {
        "id": "FQI24tZfq6we"
      },
      "source": [
        "O método acima é só uma incrementação com os dois parametros já explicados para caso alguém esteja carregando o arquivo como eu carrego e queira fazer igual, aí está, mas eu não vou fazer deste modo, pois quero mostrar o processo de outro jeito, como poderão ver abaixo. "
      ]
    },
    {
      "cell_type": "markdown",
      "metadata": {
        "id": "bdc9zvpvwgty"
      },
      "source": [
        "#3-Transformando e criando datas:"
      ]
    },
    {
      "cell_type": "code",
      "metadata": {
        "colab": {
          "base_uri": "https://localhost:8080/"
        },
        "id": "MDZI6m6Vwdrh",
        "outputId": "a684c307-a172-4a15-c566-91f5081c1d16"
      },
      "source": [
        "df1.info()"
      ],
      "execution_count": 7,
      "outputs": [
        {
          "output_type": "stream",
          "text": [
            "<class 'pandas.core.frame.DataFrame'>\n",
            "Int64Index: 958000 entries, 0 to 44999\n",
            "Data columns (total 4 columns):\n",
            " #   Column  Non-Null Count   Dtype  \n",
            "---  ------  --------------   -----  \n",
            " 0   date    958000 non-null  object \n",
            " 1   store   958000 non-null  int64  \n",
            " 2   item    958000 non-null  int64  \n",
            " 3   sales   913000 non-null  float64\n",
            "dtypes: float64(1), int64(2), object(1)\n",
            "memory usage: 36.5+ MB\n"
          ],
          "name": "stdout"
        }
      ]
    },
    {
      "cell_type": "markdown",
      "metadata": {
        "id": "_Lpqr3NoxTnv"
      },
      "source": [
        "A primeira coisa a se fazer em uma análise de séries temporais é a conversão da coluna \"date\" para o tipo datetime. Pois como podem ver a coluna \"date\" está como \"object\". Para isso vamos usar a função pd.to_datetime():\n",
        "\n"
      ]
    },
    {
      "cell_type": "code",
      "metadata": {
        "colab": {
          "base_uri": "https://localhost:8080/"
        },
        "id": "esyjm8htwd1l",
        "outputId": "69b8eae1-d817-43b5-c582-cc54ce73ec59"
      },
      "source": [
        "df1['date'] = pd.to_datetime(df1['date'],errors='coerce' )\n",
        "\n",
        "df1.info()"
      ],
      "execution_count": 8,
      "outputs": [
        {
          "output_type": "stream",
          "text": [
            "<class 'pandas.core.frame.DataFrame'>\n",
            "Int64Index: 958000 entries, 0 to 44999\n",
            "Data columns (total 4 columns):\n",
            " #   Column  Non-Null Count   Dtype         \n",
            "---  ------  --------------   -----         \n",
            " 0   date    958000 non-null  datetime64[ns]\n",
            " 1   store   958000 non-null  int64         \n",
            " 2   item    958000 non-null  int64         \n",
            " 3   sales   913000 non-null  float64       \n",
            "dtypes: datetime64[ns](1), float64(1), int64(2)\n",
            "memory usage: 36.5 MB\n"
          ],
          "name": "stdout"
        }
      ]
    },
    {
      "cell_type": "markdown",
      "metadata": {
        "id": "mNn6hyM5zfub"
      },
      "source": [
        "Agora vamos colocar a coluna \"date\" como a coluna indexadora dos demais utilizando o comando DataFrame.set_index().\n",
        "\n",
        "errors='coerce' uma dica que eu deixo é mantenham sempre esse comando quando forem converter, pois as vezes não converte, ou dá algum problema e você fica batendo cabeça, quando na verdade, por algum motivo o arquivo não foi convertido.\n",
        "\n",
        "No nosso caso foi convertido corretamente."
      ]
    },
    {
      "cell_type": "code",
      "metadata": {
        "colab": {
          "base_uri": "https://localhost:8080/"
        },
        "id": "PMbCXZ3bwd5N",
        "outputId": "751fc451-727b-4e8a-9fc4-91a3e9ae48df"
      },
      "source": [
        "df1.set_index('date', inplace=True)\n",
        "df1.info()"
      ],
      "execution_count": 9,
      "outputs": [
        {
          "output_type": "stream",
          "text": [
            "<class 'pandas.core.frame.DataFrame'>\n",
            "DatetimeIndex: 958000 entries, 2013-01-01 to 2018-03-31\n",
            "Data columns (total 3 columns):\n",
            " #   Column  Non-Null Count   Dtype  \n",
            "---  ------  --------------   -----  \n",
            " 0   store   958000 non-null  int64  \n",
            " 1   item    958000 non-null  int64  \n",
            " 2   sales   913000 non-null  float64\n",
            "dtypes: float64(1), int64(2)\n",
            "memory usage: 29.2 MB\n"
          ],
          "name": "stdout"
        }
      ]
    },
    {
      "cell_type": "markdown",
      "metadata": {
        "id": "v2KVKVCg9vj1"
      },
      "source": [
        "Como podem ver, a coluna date não está mais lá, agora, ao invés de \"Int64Index: 958000 entries, 0 to 44999\" nós temos: DatetimeIndex: 958000 entries, 2013-01-01 to 2018-03-31."
      ]
    },
    {
      "cell_type": "code",
      "metadata": {
        "colab": {
          "base_uri": "https://localhost:8080/",
          "height": 228
        },
        "id": "KZfcRKVByyml",
        "outputId": "1ef8e4a5-1e50-4c2d-95f6-a4364cae6c70"
      },
      "source": [
        "df1.head()"
      ],
      "execution_count": 10,
      "outputs": [
        {
          "output_type": "execute_result",
          "data": {
            "text/html": [
              "<div>\n",
              "<style scoped>\n",
              "    .dataframe tbody tr th:only-of-type {\n",
              "        vertical-align: middle;\n",
              "    }\n",
              "\n",
              "    .dataframe tbody tr th {\n",
              "        vertical-align: top;\n",
              "    }\n",
              "\n",
              "    .dataframe thead th {\n",
              "        text-align: right;\n",
              "    }\n",
              "</style>\n",
              "<table border=\"1\" class=\"dataframe\">\n",
              "  <thead>\n",
              "    <tr style=\"text-align: right;\">\n",
              "      <th></th>\n",
              "      <th>store</th>\n",
              "      <th>item</th>\n",
              "      <th>sales</th>\n",
              "    </tr>\n",
              "    <tr>\n",
              "      <th>date</th>\n",
              "      <th></th>\n",
              "      <th></th>\n",
              "      <th></th>\n",
              "    </tr>\n",
              "  </thead>\n",
              "  <tbody>\n",
              "    <tr>\n",
              "      <th>2013-01-01</th>\n",
              "      <td>1</td>\n",
              "      <td>1</td>\n",
              "      <td>13.0</td>\n",
              "    </tr>\n",
              "    <tr>\n",
              "      <th>2013-01-02</th>\n",
              "      <td>1</td>\n",
              "      <td>1</td>\n",
              "      <td>11.0</td>\n",
              "    </tr>\n",
              "    <tr>\n",
              "      <th>2013-01-03</th>\n",
              "      <td>1</td>\n",
              "      <td>1</td>\n",
              "      <td>14.0</td>\n",
              "    </tr>\n",
              "    <tr>\n",
              "      <th>2013-01-04</th>\n",
              "      <td>1</td>\n",
              "      <td>1</td>\n",
              "      <td>13.0</td>\n",
              "    </tr>\n",
              "    <tr>\n",
              "      <th>2013-01-05</th>\n",
              "      <td>1</td>\n",
              "      <td>1</td>\n",
              "      <td>10.0</td>\n",
              "    </tr>\n",
              "  </tbody>\n",
              "</table>\n",
              "</div>"
            ],
            "text/plain": [
              "            store  item  sales\n",
              "date                          \n",
              "2013-01-01      1     1   13.0\n",
              "2013-01-02      1     1   11.0\n",
              "2013-01-03      1     1   14.0\n",
              "2013-01-04      1     1   13.0\n",
              "2013-01-05      1     1   10.0"
            ]
          },
          "metadata": {
            "tags": []
          },
          "execution_count": 10
        }
      ]
    },
    {
      "cell_type": "code",
      "metadata": {
        "colab": {
          "base_uri": "https://localhost:8080/",
          "height": 228
        },
        "id": "s9Yji0-WLJqP",
        "outputId": "5ebe7a52-004c-4199-a8ba-47f107136a38"
      },
      "source": [
        "df1.tail()"
      ],
      "execution_count": 11,
      "outputs": [
        {
          "output_type": "execute_result",
          "data": {
            "text/html": [
              "<div>\n",
              "<style scoped>\n",
              "    .dataframe tbody tr th:only-of-type {\n",
              "        vertical-align: middle;\n",
              "    }\n",
              "\n",
              "    .dataframe tbody tr th {\n",
              "        vertical-align: top;\n",
              "    }\n",
              "\n",
              "    .dataframe thead th {\n",
              "        text-align: right;\n",
              "    }\n",
              "</style>\n",
              "<table border=\"1\" class=\"dataframe\">\n",
              "  <thead>\n",
              "    <tr style=\"text-align: right;\">\n",
              "      <th></th>\n",
              "      <th>store</th>\n",
              "      <th>item</th>\n",
              "      <th>sales</th>\n",
              "    </tr>\n",
              "    <tr>\n",
              "      <th>date</th>\n",
              "      <th></th>\n",
              "      <th></th>\n",
              "      <th></th>\n",
              "    </tr>\n",
              "  </thead>\n",
              "  <tbody>\n",
              "    <tr>\n",
              "      <th>2018-03-27</th>\n",
              "      <td>10</td>\n",
              "      <td>50</td>\n",
              "      <td>NaN</td>\n",
              "    </tr>\n",
              "    <tr>\n",
              "      <th>2018-03-28</th>\n",
              "      <td>10</td>\n",
              "      <td>50</td>\n",
              "      <td>NaN</td>\n",
              "    </tr>\n",
              "    <tr>\n",
              "      <th>2018-03-29</th>\n",
              "      <td>10</td>\n",
              "      <td>50</td>\n",
              "      <td>NaN</td>\n",
              "    </tr>\n",
              "    <tr>\n",
              "      <th>2018-03-30</th>\n",
              "      <td>10</td>\n",
              "      <td>50</td>\n",
              "      <td>NaN</td>\n",
              "    </tr>\n",
              "    <tr>\n",
              "      <th>2018-03-31</th>\n",
              "      <td>10</td>\n",
              "      <td>50</td>\n",
              "      <td>NaN</td>\n",
              "    </tr>\n",
              "  </tbody>\n",
              "</table>\n",
              "</div>"
            ],
            "text/plain": [
              "            store  item  sales\n",
              "date                          \n",
              "2018-03-27     10    50    NaN\n",
              "2018-03-28     10    50    NaN\n",
              "2018-03-29     10    50    NaN\n",
              "2018-03-30     10    50    NaN\n",
              "2018-03-31     10    50    NaN"
            ]
          },
          "metadata": {
            "tags": []
          },
          "execution_count": 11
        }
      ]
    },
    {
      "cell_type": "code",
      "metadata": {
        "colab": {
          "base_uri": "https://localhost:8080/"
        },
        "id": "yCeM3tGo-M_4",
        "outputId": "2a54f641-1831-4504-8d97-4ba79f00dc26"
      },
      "source": [
        "df1.index"
      ],
      "execution_count": 12,
      "outputs": [
        {
          "output_type": "execute_result",
          "data": {
            "text/plain": [
              "DatetimeIndex(['2013-01-01', '2013-01-02', '2013-01-03', '2013-01-04',\n",
              "               '2013-01-05', '2013-01-06', '2013-01-07', '2013-01-08',\n",
              "               '2013-01-09', '2013-01-10',\n",
              "               ...\n",
              "               '2018-03-22', '2018-03-23', '2018-03-24', '2018-03-25',\n",
              "               '2018-03-26', '2018-03-27', '2018-03-28', '2018-03-29',\n",
              "               '2018-03-30', '2018-03-31'],\n",
              "              dtype='datetime64[ns]', name='date', length=958000, freq=None)"
            ]
          },
          "metadata": {
            "tags": []
          },
          "execution_count": 12
        }
      ]
    },
    {
      "cell_type": "markdown",
      "metadata": {
        "id": "KIbNth83PK6y"
      },
      "source": [
        "Acima podemos ver aonde começa o nosso indice baseado na data e aonde ele termina."
      ]
    },
    {
      "cell_type": "code",
      "metadata": {
        "id": "3LCVpO8hEvfD"
      },
      "source": [
        "# df1 = df1.reset_index (drop = False)\n",
        "# df1.head()"
      ],
      "execution_count": 13,
      "outputs": []
    },
    {
      "cell_type": "markdown",
      "metadata": {
        "id": "NVZkz7OJPn6o"
      },
      "source": [
        "Acima está um comando para caso vocês (eu também) precisem resetar/tirar o indice de onde está e voltar a ser uma simples coluna."
      ]
    },
    {
      "cell_type": "code",
      "metadata": {
        "id": "4JwMROBSurEa"
      },
      "source": [
        "# df1['year'] = df.date.dt.year \n",
        "\n",
        "# df1['month'] = df.date.dt.month \n",
        "\n",
        "# df1['week'] = df.date.dt.week\n",
        "\n",
        "# df1['weekday'] = df.date.dt.weekday      \n",
        "\n",
        "# df1.head()"
      ],
      "execution_count": 14,
      "outputs": []
    },
    {
      "cell_type": "markdown",
      "metadata": {
        "id": "c0fdeJSOyq9o"
      },
      "source": [
        "O comando acima, eu crio a coluna \"year\" (ano), \"month\" (mês) e etc usando o método datetime, a vantagem é que o arquivo fica divido por colunas e você pode acessar tudo relacionado ao ano (por exemplo) e combinar com outras colunas.\n",
        "\n",
        "\n",
        "Aqui nesse projeto eu fiz bastante disso como podem ver:\n",
        "\n",
        "https://www.linkedin.com/feed/update/urn%3Ali%3Aactivity%3A6783774226194296832/\n",
        "\n"
      ]
    },
    {
      "cell_type": "markdown",
      "metadata": {
        "id": "r7bUlsjaMKwb"
      },
      "source": [
        "# 4 - Indexação baseada em tempo:"
      ]
    },
    {
      "cell_type": "markdown",
      "metadata": {
        "id": "4SkhPDWlMPe6"
      },
      "source": [
        "Uma série temporal se baseia na indexação baseada em tempo - usando datas e horas para organizar e acessar intuitivamente nossos dados. Com a indexação baseada em tempo, podemos usar strings formatadas de data / hora para selecionar dados em nosso DataFrame.\n",
        "\n",
        "A indexação funciona de maneira semelhante à indexação baseada em \"rótulo padrão\", ou seja \"Loc\".\n",
        "\n",
        "Por exemplo, podemos selecionar dados para um único dia usando uma string como '2013-01-01\""
      ]
    },
    {
      "cell_type": "markdown",
      "metadata": {
        "id": "NkvGlG0dMBw-"
      },
      "source": [
        "# 4-1 Loc:"
      ]
    },
    {
      "cell_type": "code",
      "metadata": {
        "colab": {
          "base_uri": "https://localhost:8080/"
        },
        "id": "DBotBxDxMBY0",
        "outputId": "8d867dae-59c7-42f1-a00e-85a3fb6af22c"
      },
      "source": [
        "a = df1.loc['2013-01-01']\n",
        "\n",
        "print(a.head(2))"
      ],
      "execution_count": 15,
      "outputs": [
        {
          "output_type": "stream",
          "text": [
            "            store  item  sales\n",
            "date                          \n",
            "2013-01-01      1     1   13.0\n",
            "2013-01-01      2     1   12.0\n"
          ],
          "name": "stdout"
        }
      ]
    },
    {
      "cell_type": "markdown",
      "metadata": {
        "id": "QJ_USIcaSc8B"
      },
      "source": [
        "Como também podemos selecionar um intervalo de tempo:"
      ]
    },
    {
      "cell_type": "code",
      "metadata": {
        "id": "S5NsrkgtMBP1",
        "colab": {
          "base_uri": "https://localhost:8080/"
        },
        "outputId": "68b32f65-e332-41d2-d5fd-09e7bb3d9cec"
      },
      "source": [
        "b = df1.loc['2013-01-01':'2014-01-12']\n",
        "\n",
        "print(b.head(2))# Os dois primeiros.\n",
        "print(b.tail(2))# Os dois últimos."
      ],
      "execution_count": 16,
      "outputs": [
        {
          "output_type": "stream",
          "text": [
            "            store  item  sales\n",
            "date                          \n",
            "2013-01-01      1     1   13.0\n",
            "2013-01-02      1     1   11.0\n",
            "            store  item  sales\n",
            "date                          \n",
            "2014-01-11     10    50   57.0\n",
            "2014-01-12     10    50   59.0\n"
          ],
          "name": "stdout"
        }
      ]
    },
    {
      "cell_type": "markdown",
      "metadata": {
        "id": "xVTlcT9HC51P"
      },
      "source": [
        "Também podemos fazer deste jeito só para ver o sales:"
      ]
    },
    {
      "cell_type": "code",
      "metadata": {
        "colab": {
          "base_uri": "https://localhost:8080/"
        },
        "id": "CFdNd-t6cFnW",
        "outputId": "7ad16ec5-be7b-408e-95ff-2f49b3dc0043"
      },
      "source": [
        "c = df1.loc['2013-01' : \"2013-06\", \"sales\"]\n",
        "\n",
        "print(c.head())\n",
        "print(c.tail())\n",
        "#print(c)"
      ],
      "execution_count": 17,
      "outputs": [
        {
          "output_type": "stream",
          "text": [
            "date\n",
            "2013-01-01    13.0\n",
            "2013-01-02    11.0\n",
            "2013-01-03    14.0\n",
            "2013-01-04    13.0\n",
            "2013-01-05    10.0\n",
            "Name: sales, dtype: float64\n",
            "date\n",
            "2013-06-26    64.0\n",
            "2013-06-27    57.0\n",
            "2013-06-28    62.0\n",
            "2013-06-29    84.0\n",
            "2013-06-30    79.0\n",
            "Name: sales, dtype: float64\n"
          ],
          "name": "stdout"
        }
      ]
    },
    {
      "cell_type": "markdown",
      "metadata": {
        "id": "PIPg7nsypGt5"
      },
      "source": [
        "Também podemos descobrir a média (mean()), soma(sum)), o valor máximo(max()) e etc.\n",
        "### Como podem ver os cálculos foram feitos encima dos cinco primeiros valores (head())\n"
      ]
    },
    {
      "cell_type": "code",
      "metadata": {
        "colab": {
          "base_uri": "https://localhost:8080/"
        },
        "id": "leIRtRaulb9_",
        "outputId": "a981311a-8352-41d0-c8ef-f6e5fd10503f"
      },
      "source": [
        "c = df1.loc['2013-01' : \"2013-06\", \"sales\"]\n",
        "\n",
        "print(c.head().mean())\n",
        "print(c.head().sum())\n",
        "print(c.head().max())\n",
        "\n",
        "print(c)"
      ],
      "execution_count": 18,
      "outputs": [
        {
          "output_type": "stream",
          "text": [
            "12.2\n",
            "61.0\n",
            "14.0\n",
            "date\n",
            "2013-01-01    13.0\n",
            "2013-01-02    11.0\n",
            "2013-01-03    14.0\n",
            "2013-01-04    13.0\n",
            "2013-01-05    10.0\n",
            "              ... \n",
            "2013-06-26    64.0\n",
            "2013-06-27    57.0\n",
            "2013-06-28    62.0\n",
            "2013-06-29    84.0\n",
            "2013-06-30    79.0\n",
            "Name: sales, Length: 90500, dtype: float64\n"
          ],
          "name": "stdout"
        }
      ]
    },
    {
      "cell_type": "code",
      "metadata": {
        "colab": {
          "base_uri": "https://localhost:8080/"
        },
        "id": "B5h7zJeEpBs6",
        "outputId": "e6bed8d7-5cc2-4c08-bc5f-89f79420ca52"
      },
      "source": [
        "c = df1.loc['2013-01' : \"2013-06\"]\n",
        "\n",
        "d = c.sales.mean()\n",
        "e = c.sales.sum()\n",
        "f = c.sales.max()\n",
        "\n",
        "print(d)\n",
        "print(e)\n",
        "print(f)"
      ],
      "execution_count": 19,
      "outputs": [
        {
          "output_type": "stream",
          "text": [
            "41.68857458563536\n",
            "3772816.0\n",
            "157.0\n"
          ],
          "name": "stdout"
        }
      ]
    },
    {
      "cell_type": "markdown",
      "metadata": {
        "id": "UTusaeMtMsBU"
      },
      "source": [
        "Também podemos fazer desta maneira que também fica bom:"
      ]
    },
    {
      "cell_type": "code",
      "metadata": {
        "id": "sTQS-gTxMspo",
        "colab": {
          "base_uri": "https://localhost:8080/"
        },
        "outputId": "f08a276a-8b54-4b2f-c4fa-00b7ddd019fc"
      },
      "source": [
        "df1.index\n",
        "print(df1.loc['2013'].head())\n",
        "print(df1.loc['2013-01'].head())\n",
        "print(df1.loc['2013-01-01': '2014-01-12'])"
      ],
      "execution_count": 20,
      "outputs": [
        {
          "output_type": "stream",
          "text": [
            "            store  item  sales\n",
            "date                          \n",
            "2013-01-01      1     1   13.0\n",
            "2013-01-02      1     1   11.0\n",
            "2013-01-03      1     1   14.0\n",
            "2013-01-04      1     1   13.0\n",
            "2013-01-05      1     1   10.0\n",
            "            store  item  sales\n",
            "date                          \n",
            "2013-01-01      1     1   13.0\n",
            "2013-01-02      1     1   11.0\n",
            "2013-01-03      1     1   14.0\n",
            "2013-01-04      1     1   13.0\n",
            "2013-01-05      1     1   10.0\n",
            "            store  item  sales\n",
            "date                          \n",
            "2013-01-01      1     1   13.0\n",
            "2013-01-02      1     1   11.0\n",
            "2013-01-03      1     1   14.0\n",
            "2013-01-04      1     1   13.0\n",
            "2013-01-05      1     1   10.0\n",
            "...           ...   ...    ...\n",
            "2014-01-08     10    50   33.0\n",
            "2014-01-09     10    50   45.0\n",
            "2014-01-10     10    50   48.0\n",
            "2014-01-11     10    50   57.0\n",
            "2014-01-12     10    50   59.0\n",
            "\n",
            "[188500 rows x 3 columns]\n"
          ],
          "name": "stdout"
        }
      ]
    },
    {
      "cell_type": "markdown",
      "metadata": {
        "id": "I7Za0M6evL34"
      },
      "source": [
        "Um exemplo com gráfico:\n",
        "\n",
        "*Neste exemplo eu vou usar apenas o item 1 da store 1 para analise, pois esse gráfico é um montro de grande."
      ]
    },
    {
      "cell_type": "code",
      "metadata": {
        "id": "nvQwiB8DvLbn",
        "colab": {
          "base_uri": "https://localhost:8080/",
          "height": 408
        },
        "outputId": "723607a4-caef-45af-b4d8-6b2cb0174fa9"
      },
      "source": [
        "#Carregando a biblioteca de vizualisação:\n",
        "import matplotlib.pyplot as plt\n",
        "\n",
        "#Criando uma cópia do dataframe original:\n",
        "df2 = df.copy()\n",
        "\n",
        "#Definindo apenas o item 1 da store 1:\n",
        "df2 = df2[df2['store']==1] \n",
        "df2 = df2[df2['item']==1]\n",
        "\n",
        "#Transformando a coluna date no formato datetime:\n",
        "df2['date'] = pd.to_datetime(df2['date'], errors='coerce' )\n",
        "\n",
        "#Setando a coluna date como index:\n",
        "df2.set_index('date', inplace=True)\n",
        "\n",
        "#Criando o gráfico:\n",
        "fig, ax = plt.subplots(figsize=(15, 6))\n",
        "ax.plot(df2.loc['2013-01':'2013-06', 'sales'], marker='o', linestyle='-')\n",
        "ax.set_ylabel('Vendas')\n",
        "ax.set_title('Vendas ao longo dos anos')"
      ],
      "execution_count": 21,
      "outputs": [
        {
          "output_type": "execute_result",
          "data": {
            "text/plain": [
              "Text(0.5, 1.0, 'Vendas ao longo dos anos')"
            ]
          },
          "metadata": {
            "tags": []
          },
          "execution_count": 21
        },
        {
          "output_type": "display_data",
          "data": {
            "image/png": "[encoded data removed]",
            "text/plain": [
              "<Figure size 1080x432 with 1 Axes>"
            ]
          },
          "metadata": {
            "tags": [],
            "needs_background": "light"
          }
        }
      ]
    },
    {
      "cell_type": "markdown",
      "metadata": {
        "id": "ZMSsYjR4pnBd"
      },
      "source": [
        "# 4-2 Resampling"
      ]
    },
    {
      "cell_type": "markdown",
      "metadata": {
        "id": "92IuxhvU_XCg"
      },
      "source": [
        "O resampling é uma função que conseguimos acessar intervalos diferentes da indformação, semelhante ao loc, mas con funções de tempo já pré definidas chamadas de \"offset aliases\"\n",
        "\n",
        "A lista completa está aqui:\n",
        "https://www.codegrepper.com/code-examples/python/offset+aliases+pandas\n",
        "\n",
        "*** Um detalhe que eu vou colocar, quando se estuda séries temporais, muitos usam as funções pd.date_range e pd.Dataframe e para aquilo funcionar somente usando loops/tuplas, creio que tentei de inumerás maneiras até entender isso, nesse artigo eu não vou usar, mas fica a dica caso você esteja apanhando muito.\n",
        "\n",
        "Dentro do date_range existe o parametro \"freq = \" e \"periods\" e nisso você seta os intervalos que você deseja, usando o resample você já tem os intervalos de tempo já pré-definidos. "
      ]
    },
    {
      "cell_type": "code",
      "metadata": {
        "id": "jopElmBkrYEX",
        "colab": {
          "base_uri": "https://localhost:8080/"
        },
        "outputId": "5ab8adc0-c42f-4461-8fa5-e0a1565c8d47"
      },
      "source": [
        "g = df1.resample('Y').sales\n",
        "\n",
        "print(g.head(1))"
      ],
      "execution_count": 22,
      "outputs": [
        {
          "output_type": "stream",
          "text": [
            "date\n",
            "2013-01-01    13.0\n",
            "2014-01-01     9.0\n",
            "2015-01-01    11.0\n",
            "2016-01-01    21.0\n",
            "2017-01-01    19.0\n",
            "2018-01-01     NaN\n",
            "Name: sales, dtype: float64\n"
          ],
          "name": "stdout"
        }
      ]
    },
    {
      "cell_type": "markdown",
      "metadata": {
        "id": "JfStztKyeHis"
      },
      "source": [
        "Eu defini a reamostragem (resample) com a frequência de ano (Y) e logo após eu usei o .head(1), o comando head normalmente irá retornar os cinco primeiros resultados, nesse caso ficaria os cinco primeiros resultados de cada ano, por isso eu coloquei o 1, se  tivesse usado 2 então teria retornado os dois primeiros resultados de cada ano “2013-01-01” e “2013-01-02”."
      ]
    },
    {
      "cell_type": "code",
      "metadata": {
        "colab": {
          "base_uri": "https://localhost:8080/",
          "height": 279
        },
        "id": "bUxKvUcQh171",
        "outputId": "634b924d-68f5-4bc1-e30f-490a03930844"
      },
      "source": [
        "g = df1.resample('Y').sales.mean().plot()"
      ],
      "execution_count": 23,
      "outputs": [
        {
          "output_type": "display_data",
          "data": {
            "image/png": "[encoded data removed]",
            "text/plain": [
              "<Figure size 432x288 with 1 Axes>"
            ]
          },
          "metadata": {
            "tags": [],
            "needs_background": "light"
          }
        }
      ]
    },
    {
      "cell_type": "markdown",
      "metadata": {
        "id": "mxDGIzF0Iu0r"
      },
      "source": [
        "Como podem ver também podemos já usar o resample em relação as vendas (sales), vendo a média e vendo tudo como gráfico, e muitras outras coisas."
      ]
    },
    {
      "cell_type": "code",
      "metadata": {
        "colab": {
          "base_uri": "https://localhost:8080/"
        },
        "id": "x9VE6lbhrYH2",
        "outputId": "865d6370-1af1-4988-e2e5-ec9e61fcb516"
      },
      "source": [
        "gat = df1.resample('M').sales\n",
        "\n",
        "print(gat.head(1))"
      ],
      "execution_count": 24,
      "outputs": [
        {
          "output_type": "stream",
          "text": [
            "date\n",
            "2013-01-01    13.0\n",
            "2013-02-01    11.0\n",
            "2013-03-01    15.0\n",
            "2013-04-01    11.0\n",
            "2013-05-01    16.0\n",
            "              ... \n",
            "2017-11-01    16.0\n",
            "2017-12-01    19.0\n",
            "2018-01-01     NaN\n",
            "2018-02-01     NaN\n",
            "2018-03-01     NaN\n",
            "Name: sales, Length: 63, dtype: float64\n"
          ],
          "name": "stdout"
        }
      ]
    },
    {
      "cell_type": "markdown",
      "metadata": {
        "id": "5iUidLqgJRwX"
      },
      "source": [
        "Acima usamos o \"M\" que vem de mês, podemos ver os resultados do primeiro dia de cada mês de cada ano."
      ]
    },
    {
      "cell_type": "code",
      "metadata": {
        "colab": {
          "base_uri": "https://localhost:8080/",
          "height": 279
        },
        "id": "f_H2xX7Mh9L9",
        "outputId": "d4c8f1b1-c40c-4fb8-bee9-4b711a43a315"
      },
      "source": [
        "gat = df1.resample('M').sales.mean().plot()"
      ],
      "execution_count": 25,
      "outputs": [
        {
          "output_type": "display_data",
          "data": {
            "image/png": "[encoded data removed]",
            "text/plain": [
              "<Figure size 432x288 with 1 Axes>"
            ]
          },
          "metadata": {
            "tags": [],
            "needs_background": "light"
          }
        }
      ]
    },
    {
      "cell_type": "code",
      "metadata": {
        "id": "CWAsRqThrYPF",
        "colab": {
          "base_uri": "https://localhost:8080/"
        },
        "outputId": "9b13b5a9-1be3-4ea0-b2dc-a8e124c0f94b"
      },
      "source": [
        "gat = df1.resample('W').sales\n",
        "\n",
        "print(gat.head(1))"
      ],
      "execution_count": 26,
      "outputs": [
        {
          "output_type": "stream",
          "text": [
            "date\n",
            "2013-01-01    13.0\n",
            "2013-01-07    10.0\n",
            "2013-01-14    12.0\n",
            "2013-01-21     8.0\n",
            "2013-01-28    11.0\n",
            "              ... \n",
            "2018-02-26     NaN\n",
            "2018-03-05     NaN\n",
            "2018-03-12     NaN\n",
            "2018-03-19     NaN\n",
            "2018-03-26     NaN\n",
            "Name: sales, Length: 274, dtype: float64\n"
          ],
          "name": "stdout"
        }
      ]
    },
    {
      "cell_type": "code",
      "metadata": {
        "id": "MOER5FOdac1J",
        "colab": {
          "base_uri": "https://localhost:8080/",
          "height": 269
        },
        "outputId": "54e751aa-b11e-4221-ef7f-85f8bed43d30"
      },
      "source": [
        "gat = df1.resample('W').sales.plot()"
      ],
      "execution_count": 27,
      "outputs": [
        {
          "output_type": "display_data",
          "data": {
            "image/png": "[encoded data removed]",
            "text/plain": [
              "<Figure size 432x288 with 1 Axes>"
            ]
          },
          "metadata": {
            "tags": [],
            "needs_background": "light"
          }
        }
      ]
    },
    {
      "cell_type": "markdown",
      "metadata": {
        "id": "WMLOXJ0QKsvH"
      },
      "source": [
        "Acima podemos ver os resultados semanalmente (a cada sete dias). Esse dataset é grande."
      ]
    },
    {
      "cell_type": "markdown",
      "metadata": {
        "id": "O2fh91vmaJF0"
      },
      "source": [
        "# Agora vamos juntar tudo o que vimos a cima em um só gráfico:"
      ]
    },
    {
      "cell_type": "code",
      "metadata": {
        "id": "4E_NL_MkrZE3",
        "colab": {
          "base_uri": "https://localhost:8080/",
          "height": 374
        },
        "outputId": "6c72b51d-258d-4bf9-9095-15d1da9e3cb6"
      },
      "source": [
        "# Carregamos a biblioteca matplotlib para ver os gráficos:\n",
        "import matplotlib.pyplot as plt\n",
        "\n",
        "#Criando uma cópia do dataframe original:\n",
        "df3 = df.copy()\n",
        "\n",
        "#Definindo apenas o item 1 da store 1:\n",
        "df3 = df3[df3['store']==1] \n",
        "df3 = df3[df3['item']==1]\n",
        "\n",
        "#Transformando a coluna date no formato datetime:\n",
        "df3['date'] = pd.to_datetime(df3['date'], errors='coerce' )\n",
        "\n",
        "#Setando a coluna date como index:\n",
        "df3.set_index('date', inplace=True)\n",
        "\n",
        "\n",
        "# Aqui eu crio a variável \"sales_resample_month\" e dentro do dele usando o resample descubro a média de vendas por ano.\n",
        "sales_resample_month_mean = df3.resample('M').sales.mean()\n",
        "\n",
        "# Aqui é a range de data que iremos usar com o comando loc:\n",
        "start, end = '2013-01', '2013-12'\n",
        "\n",
        "# Criamos o gráfico e colocamos ele no tamanho 15,6\n",
        "fig, ax = plt.subplots(figsize=(15,6))\n",
        "\n",
        "#Série de tempo original:\n",
        "ax.plot(df3.loc[start : end, 'sales'],\n",
        "marker='.', linestyle='-', linewidth=0.5, label='Vendas ao longo do ano')\n",
        "\n",
        "# Série de tempo com o resample:\n",
        "ax.plot(sales_resample_month_mean.loc[start : end],\n",
        "marker='o', markersize=8, linestyle='-', label='Média Mensal Resample')\n",
        "\n",
        "# Titulo:\n",
        "ax.set_ylabel('Vendas')\n",
        "ax.legend();"
      ],
      "execution_count": 28,
      "outputs": [
        {
          "output_type": "display_data",
          "data": {
            "image/png": "[encoded data removed]",
            "text/plain": [
              "<Figure size 1080x432 with 1 Axes>"
            ]
          },
          "metadata": {
            "tags": [],
            "needs_background": "light"
          }
        }
      ]
    },
    {
      "cell_type": "markdown",
      "metadata": {
        "id": "9AyLxg_hioKs"
      },
      "source": [
        "Acima podemos ver a média mensal das vendas sobre as vendas ao longo do ano de 2013 até 2014.\n",
        "\n",
        "Também se pode fazer outras combinações, ao longo do ano todo (2013 até 2018) podendo se ver as médias anuais, semanais, diarias, e uma infinidade de combinações: https://www.codegrepper.com/code-examples/python/offset+aliases+pandas\n",
        "\n",
        "Como também usar como parametro não a média, mas também o sum(), median() e muitos outros."
      ]
    },
    {
      "cell_type": "code",
      "metadata": {
        "id": "afWzWDtZ86J_",
        "colab": {
          "base_uri": "https://localhost:8080/",
          "height": 395
        },
        "outputId": "ebfac40e-bf4f-43d6-b058-b9d61eb6b67f"
      },
      "source": [
        "#Criando uma cópia do dataframe original:\n",
        "df3 = df.copy()\n",
        "\n",
        "#Definindo apenas o item 1 da store 1:\n",
        "df3 = df3[df3['store']==1] \n",
        "df3 = df3[df3['item']==1]\n",
        "\n",
        "#Transformando a coluna date no formato datetime:\n",
        "df3['date'] = pd.to_datetime(df3['date'], errors='coerce' )\n",
        "\n",
        "#Setando a coluna date como index:\n",
        "df3.set_index('date', inplace=True)\n",
        "\n",
        "fig, ax = plt.subplots()\n",
        "df3.sales.loc['2013-01':'2014-12'].resample(\"M\").mean().plot.bar()"
      ],
      "execution_count": 29,
      "outputs": [
        {
          "output_type": "execute_result",
          "data": {
            "text/plain": [
              "<matplotlib.axes._subplots.AxesSubplot at 0x7fc4d3956c10>"
            ]
          },
          "metadata": {
            "tags": []
          },
          "execution_count": 29
        },
        {
          "output_type": "display_data",
          "data": {
            "image/png": "[encoded data removed]",
            "text/plain": [
              "<Figure size 432x288 with 1 Axes>"
            ]
          },
          "metadata": {
            "tags": [],
            "needs_background": "light"
          }
        }
      ]
    },
    {
      "cell_type": "code",
      "metadata": {
        "id": "yDor3XTVwB2J",
        "colab": {
          "base_uri": "https://localhost:8080/",
          "height": 283
        },
        "outputId": "4e611caf-9901-4256-91c6-c220177ab6e8"
      },
      "source": [
        "df3.sales.loc['2013-01':'2014-12'].resample(\"M\").mean().hist()"
      ],
      "execution_count": 31,
      "outputs": [
        {
          "output_type": "execute_result",
          "data": {
            "text/plain": [
              "<matplotlib.axes._subplots.AxesSubplot at 0x7fc4d37ba650>"
            ]
          },
          "metadata": {
            "tags": []
          },
          "execution_count": 31
        },
        {
          "output_type": "display_data",
          "data": {
            "image/png": "[encoded data removed]",
            "text/plain": [
              "<Figure size 432x288 with 1 Axes>"
            ]
          },
          "metadata": {
            "tags": [],
            "needs_background": "light"
          }
        }
      ]
    },
    {
      "cell_type": "code",
      "metadata": {
        "id": "umRNzaBJrc86"
      },
      "source": [
        ""
      ],
      "execution_count": null,
      "outputs": []
    },
    {
      "cell_type": "code",
      "metadata": {
        "id": "mvcfzrozTpNl"
      },
      "source": [
        ""
      ],
      "execution_count": null,
      "outputs": []
    },
    {
      "cell_type": "code",
      "metadata": {
        "id": "LqF8OdHcTpQL"
      },
      "source": [
        ""
      ],
      "execution_count": null,
      "outputs": []
    }
  ]
}