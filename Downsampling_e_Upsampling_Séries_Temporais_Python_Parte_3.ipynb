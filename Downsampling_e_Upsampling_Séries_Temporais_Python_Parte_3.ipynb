{
  "nbformat": 4,
  "nbformat_minor": 0,
  "metadata": {
    "colab": {
      "name": "Downsampling e Upsampling - Séries Temporais Python Parte 3.ipynb",
      "provenance": [],
      "collapsed_sections": [],
      "authorship_tag": "ABX9TyOyfaJUb9AqVcoxSIDvQ55r",
      "include_colab_link": true
    },
    "kernelspec": {
      "name": "python3",
      "display_name": "Python 3"
    },
    "language_info": {
      "name": "python"
    }
  },
  "cells": [
    {
      "cell_type": "markdown",
      "metadata": {
        "id": "view-in-github",
        "colab_type": "text"
      },
      "source": [
        "<a href=\"https://colab.research.google.com/github/AllanBottino/Series_Temporais_Python/blob/main/Downsampling_e_Upsampling_S%C3%A9ries_Temporais_Python_Parte_3.ipynb\" target=\"_parent\"><img src=\"https://colab.research.google.com/assets/colab-badge.svg\" alt=\"Open In Colab\"/></a>"
      ]
    },
    {
      "cell_type": "markdown",
      "metadata": {
        "id": "OVFkWbhDwlVI"
      },
      "source": [
        "# Downsampling e Upsampling"
      ]
    },
    {
      "cell_type": "markdown",
      "metadata": {
        "id": "MiZL07wMxY_M"
      },
      "source": [
        "Nos artigos anteriores sobre séries temporais lidamos com o com o resample vs asfreq, nesse vamos falar de Downsampling e Upsampling, creio que é totalmente pertinente falar disso agora, mesmo que seja de maneira simples, pois irá preparar o leitor (eu também) quando mais para frente for lidar com modelos de previsão e ter que lidar com dados desbalanceados.\n",
        "Já aviso que existem melhores maneiras de se ensinar e mostrar isso (com muitos gráficos e muitos pontos coloridos), mas como já disse isso é uma explicação básica e simplista, que tem intenção de preparar o leitor para o futuro, tendo todas essas ressalvas em vista, comecemos: \n",
        "\n",
        "Upsampling e Downsampling são um DOS métodos para lidar com dados desequilibrados."
      ]
    },
    {
      "cell_type": "markdown",
      "metadata": {
        "id": "HzbAenNhxfKW"
      },
      "source": [
        "-Downsampling e upsampling\n",
        "Já que estamos lidando com reamostragem, acho totalmente pertinente já encaixar o Downsample (subamostragem) e o Upsample (sobreamostragem) aqui. \n",
        "\n",
        "Upsampling e Downsampling são um dos métodos para lidar com dados desequilibrados.\n",
        "\n",
        "-O que são dados desequilibrados?\n",
        "\n",
        "Os dados estão desequilibrados quando uma classe de dados específica está presente em um número significativamente maior do que outra classe. Ou seja, um lado é majoritário em dados e o outro minoritário, um com muito e outro com pouco.\n",
        "\n",
        "-Por que isso é um problema?\n",
        "\n",
        "Os dados desequilibrados são um problema, pois o algoritmo ML é tendencioso para a classe Majoritária. Ex: digamos que em um banco a maioria dos clientes é de uma nacionalidade específica e um número menor de outra nacionalidade, portanto, se o modelo for treinado com esses dados, é mais provável que o modelo rejeite o empréstimo para a nacionalidade minoritária.\n",
        "\n",
        "-O que devemos fazer sobre isso?\n",
        "\n",
        "Explicação oficial:\n",
        "Upsampling (Sobreamostragem) - Duplicando amostras da classe minoritária\n",
        "Undersampling (Subamostragem) - Excluindo amostras da classe majoritária.\n",
        "\n",
        "Explicação minha:\n",
        "Upsampling (Sobreamostragem) – Aumentamos a frequência que os dados aparecem.\n",
        "Exemplo: Podemos ver muito mais dados de minuto em minuto do que mês a mês.\n",
        "Undersampling (Subamostragem) – Diminuímos a frequência que os dados aparecem.\n",
        "Exemplo: O oposto do exemplo acima.\n",
        "\n",
        "Em outras palavras, tanto a sobreamostragem quanto a subamostragem envolvem a introdução de um viés para selecionar mais amostras de uma classe do que de outra, para compensar um desequilíbrio que já está presente nos dados ou que provavelmente se desenvolverá se uma amostra puramente aleatória for coletada (Fonte : Wikipedia ).\n",
        "\n",
        "Já me adianto dizendo que existem formas melhores de mostrar e falar de balanceamento de dados e reamostragem, com mais figuras e etc, mas do jeito que eu fiz creio que ficou bom, continuem acompanhando.\n",
        "-Como os dados deveriam estar?\n",
        "\n",
        "Se houvessem duas classes (homem ou mulher por exemplo), os dados EQUILIBRADOS significariam estar em 50% de pontos para cada uma das classes.\n",
        "\n",
        "Para a maioria das técnicas de aprendizado de máquina, pouco desequilíbrio não é um problema. Portanto, se houver 60% de pontos para uma classe e 40% para a outra classe, isso não deve causar nenhuma degradação significativa do desempenho. Somente quando o desequilíbrio da classe é alto, por exemplo, 90% de pontos para uma classe e 10% para a outra, os critérios de otimização padrão ou medidas de desempenho podem não ser tão eficazes e precisam de modificação.\n",
        "\n",
        "Como podem ver, não existe “Tem que ser assim”, o que existe é quanto mais equilibrados os dados estiverem melhores serão os resultados.\n"
      ]
    },
    {
      "cell_type": "markdown",
      "metadata": {
        "id": "EhqHEwJGxtxY"
      },
      "source": [
        "Agora vamos alguns exemplos práticos:"
      ]
    },
    {
      "cell_type": "markdown",
      "metadata": {
        "id": "z3ruvDe7xzF-"
      },
      "source": [
        "Vou carregar esse conjunto de dados:\n",
        "\n",
        "http://archive.ics.uci.edu/ml/datasets/Occupancy+Detection+\n",
        "\n",
        "O conjunto que eu normalmente uso é o \"Store item demand forecasting challenge time series\", eu testei e não ficou bom para o exemplo, vamos usar esse outro que ficou bem melhor.\n"
      ]
    },
    {
      "cell_type": "markdown",
      "metadata": {
        "id": "jS005SxZyC-x"
      },
      "source": [
        "# 1 - Importando as Bibliotecas:"
      ]
    },
    {
      "cell_type": "code",
      "metadata": {
        "id": "rFrEZjXKwgu4"
      },
      "source": [
        "import pandas as pd\n",
        "\n",
        "import numpy as np\n",
        "\n",
        "# O comando abaixo tira umas mensagens chatas.\n",
        "import warnings\n",
        "from pandas.core.common import SettingWithCopyWarning\n",
        "warnings.simplefilter(action=\"ignore\", category=SettingWithCopyWarning)\n",
        "\n",
        "import warnings\n",
        "warnings.filterwarnings(\"ignore\")"
      ],
      "execution_count": 9,
      "outputs": []
    },
    {
      "cell_type": "markdown",
      "metadata": {
        "id": "I67O_P1qyb2A"
      },
      "source": [
        "# 2 - Carregando os arquivos:"
      ]
    },
    {
      "cell_type": "code",
      "metadata": {
        "colab": {
          "resources": {
            "http://localhost:8080/nbextensions/google.colab/files.js": {
              "data": "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",
              "ok": true,
              "headers": [
                [
                  "content-type",
                  "application/javascript"
                ]
              ],
              "status": 200,
              "status_text": ""
            }
          },
          "base_uri": "https://localhost:8080/",
          "height": 111
        },
        "id": "-Ss9rT-Iwg0J",
        "outputId": "1c1adc3a-9e94-4322-a302-2bf41fd9e624"
      },
      "source": [
        "from google.colab import files\n",
        "uploaded = files.upload()"
      ],
      "execution_count": 3,
      "outputs": [
        {
          "output_type": "display_data",
          "data": {
            "text/html": [
              "\n",
              "     <input type=\"file\" id=\"files-21252ce1-71f4-41cf-b5d1-27139013ea32\" name=\"files[]\" multiple disabled\n",
              "        style=\"border:none\" />\n",
              "     <output id=\"result-21252ce1-71f4-41cf-b5d1-27139013ea32\">\n",
              "      Upload widget is only available when the cell has been executed in the\n",
              "      current browser session. Please rerun this cell to enable.\n",
              "      </output>\n",
              "      <script src=\"/nbextensions/google.colab/files.js\"></script> "
            ],
            "text/plain": [
              "<IPython.core.display.HTML object>"
            ]
          },
          "metadata": {
            "tags": []
          }
        },
        {
          "output_type": "stream",
          "text": [
            "Saving datatest.txt to datatest.txt\n",
            "Saving datatest2.txt to datatest2.txt\n"
          ],
          "name": "stdout"
        }
      ]
    },
    {
      "cell_type": "code",
      "metadata": {
        "colab": {
          "base_uri": "https://localhost:8080/"
        },
        "id": "dGsoh_zPwg2U",
        "outputId": "41d67168-7ce2-418f-b437-d6722af979d1"
      },
      "source": [
        "import io\n",
        "\n",
        "test = pd.read_csv(io.BytesIO(uploaded['datatest.txt']))\n",
        "\n",
        "test2 = pd.read_csv(io.BytesIO(uploaded['datatest2.txt']))\n",
        "\n",
        "df9 = pd.concat([test, test2])\n",
        "\n",
        "df9[ 'date' ] = pd.to_datetime(df9['date'])\n",
        "\n",
        "df10 = df9.copy()\n",
        "\n",
        "df10 = df10.set_index('date')\n",
        "\n",
        "print(df10.head(21))"
      ],
      "execution_count": 4,
      "outputs": [
        {
          "output_type": "stream",
          "text": [
            "                     Temperature  Humidity  ...  HumidityRatio  Occupancy\n",
            "date                                        ...                          \n",
            "2015-02-02 14:19:00      23.7000   26.2720  ...       0.004764          1\n",
            "2015-02-02 14:19:59      23.7180   26.2900  ...       0.004773          1\n",
            "2015-02-02 14:21:00      23.7300   26.2300  ...       0.004765          1\n",
            "2015-02-02 14:22:00      23.7225   26.1250  ...       0.004744          1\n",
            "2015-02-02 14:23:00      23.7540   26.2000  ...       0.004767          1\n",
            "2015-02-02 14:23:59      23.7600   26.2600  ...       0.004779          1\n",
            "2015-02-02 14:25:00      23.7300   26.2900  ...       0.004776          1\n",
            "2015-02-02 14:25:59      23.7540   26.2900  ...       0.004783          1\n",
            "2015-02-02 14:26:59      23.7540   26.3500  ...       0.004794          1\n",
            "2015-02-02 14:28:00      23.7360   26.3900  ...       0.004796          1\n",
            "2015-02-02 14:29:00      23.7450   26.4450  ...       0.004809          1\n",
            "2015-02-02 14:30:00      23.7000   26.5600  ...       0.004817          1\n",
            "2015-02-02 14:31:00      23.7000   26.6000  ...       0.004824          1\n",
            "2015-02-02 14:31:59      23.7000   26.7000  ...       0.004842          1\n",
            "2015-02-02 14:32:59      23.7000   26.7740  ...       0.004856          1\n",
            "2015-02-02 14:34:00      23.7000   26.8900  ...       0.004877          1\n",
            "2015-02-02 14:35:00      23.7000   26.9725  ...       0.004892          1\n",
            "2015-02-02 14:36:00      23.6000   26.8900  ...       0.004848          1\n",
            "2015-02-02 14:37:00      23.6400   26.9760  ...       0.004875          1\n",
            "2015-02-02 14:38:00      23.6500   27.0500  ...       0.004891          1\n",
            "2015-02-02 14:38:59      23.6400   27.1000  ...       0.004898          1\n",
            "\n",
            "[21 rows x 6 columns]\n"
          ],
          "name": "stdout"
        }
      ]
    },
    {
      "cell_type": "code",
      "metadata": {
        "colab": {
          "base_uri": "https://localhost:8080/"
        },
        "id": "7wz9wH4fwg4p",
        "outputId": "cab6d45e-106a-4856-aaea-3782f66dcc95"
      },
      "source": [
        "df10.columns"
      ],
      "execution_count": 5,
      "outputs": [
        {
          "output_type": "execute_result",
          "data": {
            "text/plain": [
              "Index(['Temperature', 'Humidity', 'Light', 'CO2', 'HumidityRatio',\n",
              "       'Occupancy'],\n",
              "      dtype='object')"
            ]
          },
          "metadata": {
            "tags": []
          },
          "execution_count": 5
        }
      ]
    },
    {
      "cell_type": "markdown",
      "metadata": {
        "id": "lK_xr-P6zEnv"
      },
      "source": [
        "Como podem ver estamos lidando com dados relacionados ao clima."
      ]
    },
    {
      "cell_type": "markdown",
      "metadata": {
        "id": "EZGkSueJzKw6"
      },
      "source": [
        "# 3 - Downsample:\n",
        "\n",
        "Diminuímos a frequência que os dados aparecem:"
      ]
    },
    {
      "cell_type": "code",
      "metadata": {
        "colab": {
          "base_uri": "https://localhost:8080/"
        },
        "id": "2l3ce3BOwg7x",
        "outputId": "ca0b63ab-d8c4-4715-a89b-0ae968e927b3"
      },
      "source": [
        "rr = df10.resample('D').mean()\n",
        "\n",
        "print(rr.head())"
      ],
      "execution_count": 6,
      "outputs": [
        {
          "output_type": "stream",
          "text": [
            "            Temperature   Humidity  ...  HumidityRatio  Occupancy\n",
            "date                                ...                          \n",
            "2015-02-02    21.825354  24.579990  ...       0.004001   0.349398\n",
            "2015-02-03    21.438301  25.889320  ...       0.004119   0.415972\n",
            "2015-02-04    21.070801  24.855041  ...       0.003845   0.263975\n",
            "2015-02-05          NaN        NaN  ...            NaN        NaN\n",
            "2015-02-06          NaN        NaN  ...            NaN        NaN\n",
            "\n",
            "[5 rows x 6 columns]\n"
          ],
          "name": "stdout"
        }
      ]
    },
    {
      "cell_type": "markdown",
      "metadata": {
        "id": "0SG7RNpFzXDf"
      },
      "source": [
        "O exemplo acima é um exemplo exagerado, prestem atenção nos dados originais, neles podemos ver que existem registros nas horas, nos minutos e nos segundos, mas no caso eu coloquei para vermos a informação com a frequência \"D\" de diária, ou seja veremos as informações apenas dia a dia. Não entendeu? No exemplo abaixo você entenderá."
      ]
    },
    {
      "cell_type": "markdown",
      "metadata": {
        "id": "HrnNBKjSzgny"
      },
      "source": [
        "# 4 - Upsample:\n",
        "Aumentando a frequência que os dados aparecem:"
      ]
    },
    {
      "cell_type": "code",
      "metadata": {
        "colab": {
          "base_uri": "https://localhost:8080/"
        },
        "id": "VKouhoZMwg-y",
        "outputId": "21a896f0-23fc-48d6-e447-589b0c74cb14"
      },
      "source": [
        "pp = df10.resample('3s').mean()\n",
        "\n",
        "print(pp.head(21))"
      ],
      "execution_count": 7,
      "outputs": [
        {
          "output_type": "stream",
          "text": [
            "                     Temperature  Humidity  ...  HumidityRatio  Occupancy\n",
            "date                                        ...                          \n",
            "2015-02-02 14:19:00       23.700    26.272  ...       0.004764        1.0\n",
            "2015-02-02 14:19:03          NaN       NaN  ...            NaN        NaN\n",
            "2015-02-02 14:19:06          NaN       NaN  ...            NaN        NaN\n",
            "2015-02-02 14:19:09          NaN       NaN  ...            NaN        NaN\n",
            "2015-02-02 14:19:12          NaN       NaN  ...            NaN        NaN\n",
            "2015-02-02 14:19:15          NaN       NaN  ...            NaN        NaN\n",
            "2015-02-02 14:19:18          NaN       NaN  ...            NaN        NaN\n",
            "2015-02-02 14:19:21          NaN       NaN  ...            NaN        NaN\n",
            "2015-02-02 14:19:24          NaN       NaN  ...            NaN        NaN\n",
            "2015-02-02 14:19:27          NaN       NaN  ...            NaN        NaN\n",
            "2015-02-02 14:19:30          NaN       NaN  ...            NaN        NaN\n",
            "2015-02-02 14:19:33          NaN       NaN  ...            NaN        NaN\n",
            "2015-02-02 14:19:36          NaN       NaN  ...            NaN        NaN\n",
            "2015-02-02 14:19:39          NaN       NaN  ...            NaN        NaN\n",
            "2015-02-02 14:19:42          NaN       NaN  ...            NaN        NaN\n",
            "2015-02-02 14:19:45          NaN       NaN  ...            NaN        NaN\n",
            "2015-02-02 14:19:48          NaN       NaN  ...            NaN        NaN\n",
            "2015-02-02 14:19:51          NaN       NaN  ...            NaN        NaN\n",
            "2015-02-02 14:19:54          NaN       NaN  ...            NaN        NaN\n",
            "2015-02-02 14:19:57       23.718    26.290  ...       0.004773        1.0\n",
            "2015-02-02 14:20:00          NaN       NaN  ...            NaN        NaN\n",
            "\n",
            "[21 rows x 6 columns]\n"
          ],
          "name": "stdout"
        }
      ]
    },
    {
      "cell_type": "markdown",
      "metadata": {
        "id": "hKRS9kOeztHp"
      },
      "source": [
        "Talvez você tenha ficado confuso (eu fiquei por um tempo), eu até deixei o head em 21, para podermos ver bem o que acontece. Eu reamostrei os dados em 3 segundos, ou seja, eu dei o comando para mostrar as informações com a frequência de 3 segundos. Agora se o leitor olhar para o dataframe original verá que ele tem ano - mês - dia - hora - minutos - segundos. Ou seja, quando eu decidi que era para mostrar as informações no intervalo de 3 segundos, ele assim fez, mas o que acontece que só temos informações registradas em determinados períodos, no caso ele vai mostrar tudo de 3 em 3 segundos até finalmente chegar onde tem informações registradas, e como não temos tantas informações registradas no intervalo de 3 segundos, acaba que se criando vários NaN, valores nulos/vazios."
      ]
    },
    {
      "cell_type": "markdown",
      "metadata": {
        "id": "WuKwqbYUzwNT"
      },
      "source": [
        "# 5 - Offset:\n",
        "Você também pode adicionar um deslocamento:"
      ]
    },
    {
      "cell_type": "code",
      "metadata": {
        "colab": {
          "base_uri": "https://localhost:8080/"
        },
        "id": "8U7tVdIawhBq",
        "outputId": "27c88a16-ad13-4854-f0fe-d852f5ba6379"
      },
      "source": [
        "hh = df10.resample('H',loffset='10s').mean()\n",
        "\n",
        "print(hh.head())"
      ],
      "execution_count": 10,
      "outputs": [
        {
          "output_type": "stream",
          "text": [
            "                     Temperature   Humidity  ...  HumidityRatio  Occupancy\n",
            "date                                         ...                          \n",
            "2015-02-02 14:00:10    23.657118  27.023720  ...       0.004889   1.000000\n",
            "2015-02-02 15:00:10    23.293950  28.412430  ...       0.005030   1.000000\n",
            "2015-02-02 16:00:10    22.773142  26.737452  ...       0.004585   1.000000\n",
            "2015-02-02 17:00:10    22.534520  24.972128  ...       0.004217   0.610169\n",
            "2015-02-02 18:00:10    21.993372  24.595967  ...       0.004018   0.083333\n",
            "\n",
            "[5 rows x 6 columns]\n"
          ],
          "name": "stdout"
        }
      ]
    },
    {
      "cell_type": "markdown",
      "metadata": {
        "id": "_NK7YeUB0TI0"
      },
      "source": [
        "E o que fazer com esses dados nulos? Um dos muitos métodos para lidar com isso é a Interpolação, que falarei no próximo artigo, não percam ele, pois ele é uma continuação deste.\n",
        "\n",
        "Abraços.\n"
      ]
    }
  ]
}